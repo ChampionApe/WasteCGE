{
 "cells": [
  {
   "cell_type": "code",
   "execution_count": 1,
   "id": "1fb80aca-9781-4f7e-86df-6da20cc1b1ec",
   "metadata": {},
   "outputs": [],
   "source": [
    "import os, pandas as pd, numpy as np, gmsPython, pyDatabases\n",
    "repo = 'WasteCGE'\n",
    "d = {'main': f\"{os.getcwd().split(repo)[0]}{repo}\"}\n",
    "d.update({'py'  : os.path.join(d['main'],'py'),\n",
    "          'work': os.path.join(d['main'], 'work_folder'),\n",
    "          'data': os.path.join(d['main'], 'data'),\n",
    "          'gams': os.path.join(d['main'], 'gams')})"
   ]
  },
  {
   "cell_type": "markdown",
   "id": "f3d2849b-895f-4752-898a-cf3dd9ec1a59",
   "metadata": {},
   "source": [
    "*Clean up working folder:*"
   ]
  },
  {
   "cell_type": "code",
   "execution_count": 2,
   "id": "e9c1b918-6eec-4603-a85f-b168be988cd7",
   "metadata": {},
   "outputs": [
    {
     "name": "stdout",
     "output_type": "stream",
     "text": [
      "No clean-up of work-folder\n"
     ]
    }
   ],
   "source": [
    "try:\n",
    "    if clean_up is True:\n",
    "        temp_gamsdb = [filename for filename in os.listdir(d['work']) if filename.endswith((\".gdx\",\".gms\",\".lst\",\".g00\",\".pf\",\".opt\",\".gmy\"))]\n",
    "        for temp in temp_gamsdb:\n",
    "            try:\n",
    "                os.remove(d['work']+'\\\\'+temp)\n",
    "            except OSError as err:\n",
    "                print('The file ' + temp + ' is still active and was not deleted.')\n",
    "except NameError:\n",
    "    print('No clean-up of work-folder')"
   ]
  },
  {
   "cell_type": "markdown",
   "id": "d5b843e2-d04a-405c-99dd-c20c31127cba",
   "metadata": {},
   "source": [
    "*Packages for plotting:*"
   ]
  },
  {
   "cell_type": "code",
   "execution_count": 3,
   "id": "5b7bd565-b4d7-4fe9-829d-2ae9ddf45fa7",
   "metadata": {},
   "outputs": [],
   "source": [
    "import matplotlib as mpl, matplotlib.pyplot as plt, seaborn\n",
    "from matplotlib import cm\n",
    "from matplotlib.ticker import LinearLocator\n",
    "pd.options.plotting.backend = 'matplotlib'\n",
    "%matplotlib inline\n",
    "plt.style.use('seaborn-whitegrid')\n",
    "mpl.style.use('seaborn')\n",
    "plt.rcParams['font.family'] = 'Palatino Linotype'\n",
    "prop_cycle = plt.rcParams[\"axes.prop_cycle\"]\n",
    "colors = prop_cycle.by_key()[\"color\"]\n",
    "long_colors = ['#1f78b4','#a6cee3','#b2df8a','#33a02c','#fb9a99','#e31a1c','#fdbf6f','#ff7f00','#cab2d6','#6a3d9a','#ffff99','#b15928']"
   ]
  },
  {
   "cell_type": "code",
   "execution_count": 4,
   "id": "067ac9be-dc9e-427a-84c2-a53b9aaaa9ac",
   "metadata": {},
   "outputs": [],
   "source": [
    "def largeFont():\n",
    "    SMALL_SIZE = 24\n",
    "    MEDIUM_SIZE = 28\n",
    "    BIGGER_SIZE = 32\n",
    "    plt.rc('font', size=SMALL_SIZE)          # controls default text sizes\n",
    "    plt.rc('axes', titlesize=BIGGER_SIZE)     # fontsize of the axes title\n",
    "    plt.rc('axes', labelsize=MEDIUM_SIZE)    # fontsize of the x and y labels\n",
    "    plt.rc('xtick', labelsize=SMALL_SIZE)    # fontsize of the tick labels\n",
    "    plt.rc('ytick', labelsize=SMALL_SIZE)    # fontsize of the tick labels\n",
    "    plt.rc('legend', fontsize=SMALL_SIZE)    # legend fontsize\n",
    "    plt.rc('figure', titlesize=BIGGER_SIZE)  # fontsize of the figure title\n",
    "def one_graph():\n",
    "    SMALL_SIZE = 19\n",
    "    MEDIUM_SIZE = 22\n",
    "    BIGGER_SIZE = 25\n",
    "    plt.rc('font', size=SMALL_SIZE)          # controls default text sizes\n",
    "    plt.rc('axes', titlesize=BIGGER_SIZE)     # fontsize of the axes title\n",
    "    plt.rc('axes', labelsize=MEDIUM_SIZE)    # fontsize of the x and y labels\n",
    "    plt.rc('xtick', labelsize=SMALL_SIZE)    # fontsize of the tick labels\n",
    "    plt.rc('ytick', labelsize=SMALL_SIZE)    # fontsize of the tick labels\n",
    "    plt.rc('legend', fontsize=SMALL_SIZE)    # legend fontsize\n",
    "    plt.rc('figure', titlesize=BIGGER_SIZE)  # fontsize of the figure title\n",
    "def mult_graphs():\n",
    "    SMALL_SIZE = 16\n",
    "    MEDIUM_SIZE = 19\n",
    "    BIGGER_SIZE = 22\n",
    "    plt.rc('font', size=SMALL_SIZE)          # controls default text sizes\n",
    "    plt.rc('axes', titlesize=BIGGER_SIZE)     # fontsize of the axes title\n",
    "    plt.rc('axes', labelsize=MEDIUM_SIZE)    # fontsize of the x and y labels\n",
    "    plt.rc('xtick', labelsize=SMALL_SIZE)    # fontsize of the tick labels\n",
    "    plt.rc('ytick', labelsize=SMALL_SIZE)    # fontsize of the tick labels\n",
    "    plt.rc('legend', fontsize=SMALL_SIZE)    # legend fontsize\n",
    "    plt.rc('figure', titlesize=BIGGER_SIZE)  # fontsize of the figure title    "
   ]
  }
 ],
 "metadata": {
  "kernelspec": {
   "display_name": "Python 3 (ipykernel)",
   "language": "python",
   "name": "python3"
  },
  "language_info": {
   "codemirror_mode": {
    "name": "ipython",
    "version": 3
   },
   "file_extension": ".py",
   "mimetype": "text/x-python",
   "name": "python",
   "nbconvert_exporter": "python",
   "pygments_lexer": "ipython3",
   "version": "3.9.7"
  }
 },
 "nbformat": 4,
 "nbformat_minor": 5
}
